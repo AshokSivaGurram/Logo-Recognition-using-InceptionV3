{
  "cells": [
    {
      "cell_type": "markdown",
      "source": [
        "**Deep Learning Micro Project**"
      ],
      "metadata": {
        "id": "B9J-dCjjUxDf"
      }
    },
    {
      "cell_type": "markdown",
      "source": [
        "**Name : G.Siva Ashok**"
      ],
      "metadata": {
        "id": "YoHQgILsU9l6"
      }
    },
    {
      "cell_type": "markdown",
      "source": [
        "**Guide: Prof. R. Raja Subramanian**"
      ],
      "metadata": {
        "id": "GDI2mLDGVFOz"
      }
    },
    {
      "cell_type": "markdown",
      "source": [
        "**Description**"
      ],
      "metadata": {
        "id": "B3wbUXnBTab0"
      }
    },
    {
      "cell_type": "markdown",
      "source": [
        "This is the python program for Face or any object detection using  architecture InceptionV3, Tensorflow, cv2, Matplotlib for image showing"
      ],
      "metadata": {
        "id": "6peokGgER1oZ"
      }
    },
    {
      "cell_type": "markdown",
      "source": [
        "Here we will take dataset from kaggle and the dataset is mainly based on logos of various brands."
      ],
      "metadata": {
        "id": "gAkWwgmpS44g"
      }
    },
    {
      "cell_type": "markdown",
      "source": [
        "Finally we are training and validating as we get accuracy more than 85 then callback and prediction our custom image from testing set"
      ],
      "metadata": {
        "id": "8MuGjZnIS41L"
      }
    },
    {
      "cell_type": "code",
      "execution_count": null,
      "metadata": {
        "id": "SWr8jWEDAKYB"
      },
      "outputs": [],
      "source": [
        "#Importing all required libraries\n",
        "import tensorflow as tf\n",
        "import cv2\n",
        "import random \n",
        "import numpy as np\n",
        "import matplotlib.pyplot as plt\n",
        "import os\n",
        "import tensorflow as tf\n",
        "from tensorflow.keras.applications import *\n",
        "from tensorflow.keras.models import *\n",
        "from tensorflow.keras.layers import *\n",
        "from tensorflow.keras.utils import load_img"
      ]
    },
    {
      "cell_type": "code",
      "execution_count": null,
      "metadata": {
        "id": "pdG8nq3OAKYH"
      },
      "outputs": [],
      "source": [
        "lt = [cv2.ROTATE_180,cv2.ROTATE_90_COUNTERCLOCKWISE,cv2.ROTATE_90_CLOCKWISE]\n",
        "def brightness(img):\n",
        "    value = random.uniform(0.5, 2)\n",
        "    hsv = cv2.cvtColor(img, cv2.COLOR_BGR2HSV)\n",
        "    hsv = np.array(hsv, dtype = np.float64)\n",
        "    hsv[:,:,1] = hsv[:,:,1]*value\n",
        "    hsv[:,:,1][hsv[:,:,1]>255]  = 255\n",
        "    hsv[:,:,2] = hsv[:,:,2]*value \n",
        "    hsv[:,:,2][hsv[:,:,2]>255]  = 255\n",
        "    hsv = np.array(hsv, dtype = np.uint8)\n",
        "    img = cv2.cvtColor(hsv, cv2.COLOR_HSV2BGR)\n",
        "    return img"
      ]
    },
    {
      "cell_type": "code",
      "execution_count": null,
      "metadata": {
        "colab": {
          "base_uri": "https://localhost:8080/"
        },
        "id": "Xd2avxfuEVP8",
        "outputId": "ca68c5d5-312b-4006-fd4c-fca1e8d60256"
      },
      "outputs": [
        {
          "output_type": "stream",
          "name": "stdout",
          "text": [
            "Mounted at /content/drive\n"
          ]
        }
      ],
      "source": [
        "from google.colab import drive\n",
        "drive.mount('/content/drive')"
      ]
    },
    {
      "cell_type": "code",
      "execution_count": null,
      "metadata": {
        "id": "wbo5TRjgEZWc"
      },
      "outputs": [],
      "source": [
        "#assigning directory\n",
        "import pathlib\n",
        "import glob\n",
        "directory=pathlib.Path(\"/content/drive/MyDrive/logos1\")"
      ]
    },
    {
      "cell_type": "code",
      "execution_count": null,
      "metadata": {
        "id": "wFb7X7FldHNE"
      },
      "outputs": [],
      "source": [
        "resultant=\"/content/augmentedimages2\""
      ]
    },
    {
      "cell_type": "code",
      "execution_count": null,
      "metadata": {
        "colab": {
          "base_uri": "https://localhost:8080/"
        },
        "id": "ktmV1KWKAKYI",
        "outputId": "66bbe8f6-b139-438a-8e0b-9da07701db45"
      },
      "outputs": [
        {
          "output_type": "stream",
          "name": "stdout",
          "text": [
            "abu-dhabi-logo.png\n",
            "ac-cuneo-1905-vector-logo-400x400.png\n",
            "adidas-black-vector-logo-400x400.png\n",
            "advan-logo-vector-download.jpg\n",
            "Adidas-Trefoil-logo-vector-for-free-download.png\n",
            "adobe-eps-vector-logo-400x400.png\n",
            "afc-champions-league-logo.png\n",
            "Agribank-logo-400x400.png\n",
            "airtel-logo-vector-400x400.png\n",
            "all-blacks-eps-vector-logo-400x400.png\n",
            "alipay-logo.png\n",
            "alibaba-logo-png-400x400.png\n",
            "allah-cellacelaluhu-vector-logo-400x400.png\n",
            "alpina-eps-vector-logo-400x400.png\n",
            "american-flag-logo-vector-400x400.png\n",
            "amazon-alexa-logo.png\n",
            "amazon-logo-vector-download-400x400.jpg\n",
            "amazon-logo-preview-400x400.png\n",
            "american-express-logo.png\n",
            "android-vector-logo.png\n",
            "android-robot-vector-400x400.jpg\n",
            "apple-app-store-logo.png\n",
            "apple-classic-rainbow-vector-logo-400x400.png\n",
            "andhra-bank-vector-logo-400x400.png\n",
            "apple-iphone-6s-logo-vector-download-400x400.jpg\n",
            "apple-inc-vector-logo-400x400.png\n",
            "apple-ios-logo-vector-download-400x400.jpg\n",
            "apple-computer-vector-logo-400x400.png\n"
          ]
        }
      ],
      "source": [
        "items = os.listdir(directory)\n",
        "\n",
        "classes=[]\n",
        "count=0\n",
        "images = []\n",
        "labels=[]\n",
        "for i in items:\n",
        "    i1 = 0\n",
        "    print(i)\n",
        "    classes.append(i)\n",
        "    path1 = f\"{directory}/{i}\"\n",
        "    a = random.randint(5,10)\n",
        "    img = cv2.imread(path1)\n",
        "    img = cv2.resize(img,(299,299))\n",
        "    k = i.split(\".\")[0]\n",
        "    cv2.imwrite(f\"{resultant}\\{k}{i1}.jpg\",img)\n",
        "    \n",
        "    i1+=1\n",
        "    while a!=0:\n",
        "        img = cv2.rotate(img,lt[random.randint(0,2)])\n",
        "        images.append(img)\n",
        "        cv2.imwrite(f\"{resultant}\\{k}{i1}.jpg\",img)\n",
        "        i1+=1\n",
        "        labels.append(count)\n",
        "        if a%2==0:\n",
        "            img = brightness(img)\n",
        "            images.append(img)\n",
        "            cv2.imwrite(f\"{resultant}\\{k}{i1}.jpg\",img)\n",
        "            i1+=1\n",
        "            labels.append(count)\n",
        "        a-=1\n",
        "    count+=1\n",
        "images = np.array(images) \n",
        "labels = np.array(labels)"
      ]
    },
    {
      "cell_type": "code",
      "execution_count": null,
      "metadata": {
        "colab": {
          "base_uri": "https://localhost:8080/"
        },
        "id": "TaCNfz3_AKYK",
        "outputId": "5a9f652f-b843-4fe6-e442-97f4b89994c6"
      },
      "outputs": [
        {
          "output_type": "execute_result",
          "data": {
            "text/plain": [
              "(306, 299, 299, 3)"
            ]
          },
          "metadata": {},
          "execution_count": 18
        }
      ],
      "source": [
        "images.shape"
      ]
    },
    {
      "cell_type": "code",
      "execution_count": null,
      "metadata": {
        "id": "MjHYBMAjAKYL"
      },
      "outputs": [],
      "source": [
        "# change the model here for alternatives\n",
        "\n",
        "model = InceptionV3(weights=\"imagenet\")\n",
        "for i in model.layers:\n",
        "    i.trainable =  True"
      ]
    },
    {
      "cell_type": "code",
      "execution_count": null,
      "metadata": {
        "id": "FlbjzC_kAKYO"
      },
      "outputs": [],
      "source": [
        "model2 = Sequential() \n",
        "\n",
        "# adding layers from pre-trained model\n",
        "for i in range(18):\n",
        "    model2.add(model.layers[i])"
      ]
    },
    {
      "cell_type": "code",
      "execution_count": null,
      "metadata": {
        "id": "dHyO1uziAKYP"
      },
      "outputs": [],
      "source": [
        "# adding custum layers\n",
        "model2.add(Flatten())\n",
        "model2.add(Dense(500,activation=\"relu\"))\n",
        "model2.add(Dense(406,activation=\"relu\"))\n",
        "model2.add(Dense(306,activation=\"Softmax\"))"
      ]
    },
    {
      "cell_type": "code",
      "execution_count": null,
      "metadata": {
        "id": "4dLa57ruAKYR"
      },
      "outputs": [],
      "source": [
        "import tensorflow as tf\n",
        "class myCallback(tf.keras.callbacks.Callback): \n",
        "    def on_epoch_end(self, epoch, logs={}): \n",
        "        print(\"call\")\n",
        "        if(logs.get('accuracy') > .85):   \n",
        "            print(\"\\nReached %2.2f%% accuracy, so stopping training!!\" %(85))   \n",
        "            self.model.stop_training = True\n",
        "callbacks = myCallback()"
      ]
    },
    {
      "cell_type": "code",
      "source": [
        "model2.summary()"
      ],
      "metadata": {
        "id": "xZ-vdcLbAjeV",
        "outputId": "35d68bc9-f917-4d58-f209-e4dc640a3c5a",
        "colab": {
          "base_uri": "https://localhost:8080/"
        }
      },
      "execution_count": null,
      "outputs": [
        {
          "output_type": "stream",
          "name": "stdout",
          "text": [
            "Model: \"sequential_2\"\n",
            "_________________________________________________________________\n",
            " Layer (type)                Output Shape              Param #   \n",
            "=================================================================\n",
            " conv2d_94 (Conv2D)          (None, 149, 149, 32)      864       \n",
            "                                                                 \n",
            " batch_normalization_94 (Bat  (None, 149, 149, 32)     96        \n",
            " chNormalization)                                                \n",
            "                                                                 \n",
            " activation_94 (Activation)  (None, 149, 149, 32)      0         \n",
            "                                                                 \n",
            " conv2d_95 (Conv2D)          (None, 147, 147, 32)      9216      \n",
            "                                                                 \n",
            " batch_normalization_95 (Bat  (None, 147, 147, 32)     96        \n",
            " chNormalization)                                                \n",
            "                                                                 \n",
            " activation_95 (Activation)  (None, 147, 147, 32)      0         \n",
            "                                                                 \n",
            " conv2d_96 (Conv2D)          (None, 147, 147, 64)      18432     \n",
            "                                                                 \n",
            " batch_normalization_96 (Bat  (None, 147, 147, 64)     192       \n",
            " chNormalization)                                                \n",
            "                                                                 \n",
            " activation_96 (Activation)  (None, 147, 147, 64)      0         \n",
            "                                                                 \n",
            " max_pooling2d_4 (MaxPooling  (None, 73, 73, 64)       0         \n",
            " 2D)                                                             \n",
            "                                                                 \n",
            " conv2d_97 (Conv2D)          (None, 73, 73, 80)        5120      \n",
            "                                                                 \n",
            " batch_normalization_97 (Bat  (None, 73, 73, 80)       240       \n",
            " chNormalization)                                                \n",
            "                                                                 \n",
            " activation_97 (Activation)  (None, 73, 73, 80)        0         \n",
            "                                                                 \n",
            " conv2d_98 (Conv2D)          (None, 71, 71, 192)       138240    \n",
            "                                                                 \n",
            " batch_normalization_98 (Bat  (None, 71, 71, 192)      576       \n",
            " chNormalization)                                                \n",
            "                                                                 \n",
            " activation_98 (Activation)  (None, 71, 71, 192)       0         \n",
            "                                                                 \n",
            " max_pooling2d_5 (MaxPooling  (None, 35, 35, 192)      0         \n",
            " 2D)                                                             \n",
            "                                                                 \n",
            " flatten_2 (Flatten)         (None, 235200)            0         \n",
            "                                                                 \n",
            " dense_6 (Dense)             (None, 500)               117600500 \n",
            "                                                                 \n",
            " dense_7 (Dense)             (None, 406)               203406    \n",
            "                                                                 \n",
            " dense_8 (Dense)             (None, 306)               124542    \n",
            "                                                                 \n",
            "=================================================================\n",
            "Total params: 118,101,520\n",
            "Trainable params: 118,100,720\n",
            "Non-trainable params: 800\n",
            "_________________________________________________________________\n"
          ]
        }
      ]
    },
    {
      "cell_type": "markdown",
      "source": [
        "**Training and Validation**"
      ],
      "metadata": {
        "id": "PF_uvtyDVdek"
      }
    },
    {
      "cell_type": "code",
      "execution_count": null,
      "metadata": {
        "colab": {
          "base_uri": "https://localhost:8080/"
        },
        "id": "oCxM-nnlAKYR",
        "outputId": "d6c670d0-c5c4-42c0-badc-70f5eb246b3a"
      },
      "outputs": [
        {
          "output_type": "stream",
          "name": "stdout",
          "text": [
            "Epoch 1/100\n",
            "10/10 [==============================] - ETA: 0s - loss: 302.2581 - accuracy: 0.0392 call\n",
            "10/10 [==============================] - 128s 12s/step - loss: 302.2581 - accuracy: 0.0392\n",
            "Epoch 2/100\n",
            "10/10 [==============================] - ETA: 0s - loss: 239.8943 - accuracy: 0.1209 call\n",
            "10/10 [==============================] - 122s 12s/step - loss: 239.8943 - accuracy: 0.1209\n",
            "Epoch 3/100\n",
            "10/10 [==============================] - ETA: 0s - loss: 90.4105 - accuracy: 0.2680 call\n",
            "10/10 [==============================] - 123s 12s/step - loss: 90.4105 - accuracy: 0.2680\n",
            "Epoch 4/100\n",
            "10/10 [==============================] - ETA: 0s - loss: 18.4950 - accuracy: 0.6013 call\n",
            "10/10 [==============================] - 121s 12s/step - loss: 18.4950 - accuracy: 0.6013\n",
            "Epoch 5/100\n",
            "10/10 [==============================] - ETA: 0s - loss: 3.4656 - accuracy: 0.8203 call\n",
            "10/10 [==============================] - 128s 13s/step - loss: 3.4656 - accuracy: 0.8203\n",
            "Epoch 6/100\n",
            "10/10 [==============================] - ETA: 0s - loss: 1.0687 - accuracy: 0.9281 call\n",
            "\n",
            "Reached 85.00% accuracy, so stopping training!!\n",
            "10/10 [==============================] - 123s 12s/step - loss: 1.0687 - accuracy: 0.9281\n"
          ]
        },
        {
          "output_type": "execute_result",
          "data": {
            "text/plain": [
              "<keras.callbacks.History at 0x7fd4d84e6a00>"
            ]
          },
          "metadata": {},
          "execution_count": 29
        }
      ],
      "source": [
        "# model1.summary()\n",
        "model2.compile(optimizer=\"adam\",loss=\"sparse_categorical_crossentropy\",metrics=[\"accuracy\"])\n",
        "model2.fit(images,labels,epochs=100,callbacks=[callbacks])"
      ]
    },
    {
      "cell_type": "code",
      "execution_count": null,
      "metadata": {
        "colab": {
          "base_uri": "https://localhost:8080/"
        },
        "id": "1USJ-1DfAKYT",
        "outputId": "33912e2f-4113-4d8b-e991-31f0f9325b0e"
      },
      "outputs": [
        {
          "output_type": "stream",
          "name": "stdout",
          "text": [
            "10/10 [==============================] - 25s 3s/step - loss: 35.4590 - accuracy: 0.7092\n"
          ]
        },
        {
          "output_type": "execute_result",
          "data": {
            "text/plain": [
              "[35.458980560302734, 0.7091503143310547]"
            ]
          },
          "metadata": {},
          "execution_count": 30
        }
      ],
      "source": [
        "model2.evaluate(images,labels)"
      ]
    },
    {
      "cell_type": "code",
      "execution_count": null,
      "metadata": {
        "id": "SkVytyFDlWFG"
      },
      "outputs": [],
      "source": [
        "def predict(i,model,labels):\n",
        "    path1 = \"/content/drive/MyDrive/Testing Set/apple.png\"\n",
        "    img = cv2.imread(path1)\n",
        "    img = cv2.resize(img,(299,299))\n",
        "    a = np.argmax(model.predict(np.array([img])))\n",
        "    img = cv2.putText(img, labels[a], (-5,20), cv2.FONT_HERSHEY_SIMPLEX,1, (200,200,0), 3, cv2.LINE_AA)\n",
        "    plt.imshow(img)"
      ]
    },
    {
      "cell_type": "markdown",
      "source": [
        "**Output**"
      ],
      "metadata": {
        "id": "xUw0FT5CVYM3"
      }
    },
    {
      "cell_type": "code",
      "execution_count": null,
      "metadata": {
        "colab": {
          "base_uri": "https://localhost:8080/",
          "height": 286
        },
        "id": "jPjI6BodlXPv",
        "outputId": "d134f0c1-5ad3-42ed-ed3d-32d67ec23595"
      },
      "outputs": [
        {
          "output_type": "stream",
          "name": "stdout",
          "text": [
            "1/1 [==============================] - 0s 149ms/step\n"
          ]
        },
        {
          "output_type": "display_data",
          "data": {
            "text/plain": [
              "<Figure size 432x288 with 1 Axes>"
            ],
            "image/png": "[encoded data removed]"
          },
          "metadata": {
            "needs_background": "light"
          }
        }
      ],
      "source": [
        "predict(\"apple.png\",model2,classes)"
      ]
    }
  ],
  "metadata": {
    "colab": {
      "provenance": []
    },
    "kernelspec": {
      "display_name": "Python 3",
      "language": "python",
      "name": "python3"
    },
    "language_info": {
      "codemirror_mode": {
        "name": "ipython",
        "version": 3
      },
      "file_extension": ".py",
      "mimetype": "text/x-python",
      "name": "python",
      "nbconvert_exporter": "python",
      "pygments_lexer": "ipython3",
      "version": "3.7.12"
    }
  },
  "nbformat": 4,
  "nbformat_minor": 0
}